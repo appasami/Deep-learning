{
 "cells": [
  {
   "cell_type": "markdown",
   "metadata": {
    "papermill": {
     "duration": 0.028319,
     "end_time": "2020-09-19T18:58:17.656729",
     "exception": false,
     "start_time": "2020-09-19T18:58:17.628410",
     "status": "completed"
    },
    "tags": []
   },
   "source": [
    "## Handwritten Digit Classifier using a Simple Neural Network with 99.4% accuracy\n",
    "\n",
    "### MNIST Dataset\n",
    "The MNIST database (Modified National Institute of Standards and Technology database) is a large database of handwritten digits that is commonly used for training various image processing systems. This dataset is considered to be the \"hello world\" dataset for Computer Vision.\n",
    "\n",
    "I have written a blog to give a better explanation of the approach I have used, here is the link - https://medium.com/analytics-vidhya/get-started-with-your-first-deep-learning-project-7d989cb13ae5\n",
    "\n",
    "It has a training set of 60,000 examples and a test set of 10,000 examples for handwritten digits with a fixed dimension of 28X28 pixels. The goal is to correctly identify digits and find ways to improve the performance of the model. So let's dive into it -"
   ]
  },
  {
   "cell_type": "markdown",
   "metadata": {
    "papermill": {
     "duration": 0.029735,
     "end_time": "2020-09-19T18:58:17.713586",
     "exception": false,
     "start_time": "2020-09-19T18:58:17.683851",
     "status": "completed"
    },
    "tags": []
   },
   "source": [
    "## Import the required libraries"
   ]
  },
  {
   "cell_type": "code",
   "execution_count": 1,
   "metadata": {
    "_cell_guid": "b1076dfc-b9ad-4769-8c92-a6c4dae69d19",
    "_uuid": "8f2839f25d086af736a60e9eeb907d3b93b6e0e5",
    "execution": {
     "iopub.execute_input": "2020-09-19T18:58:17.776043Z",
     "iopub.status.busy": "2020-09-19T18:58:17.774989Z",
     "iopub.status.idle": "2020-09-19T18:58:25.226722Z",
     "shell.execute_reply": "2020-09-19T18:58:25.225938Z"
    },
    "papermill": {
     "duration": 7.485496,
     "end_time": "2020-09-19T18:58:25.226882",
     "exception": false,
     "start_time": "2020-09-19T18:58:17.741386",
     "status": "completed"
    },
    "tags": []
   },
   "outputs": [],
   "source": [
    "import numpy as np         \n",
    "import pandas as pd\n",
    "import matplotlib.pyplot as plt      \n",
    "import random                        \n",
    "\n",
    "from keras.datasets import mnist     \n",
    "from keras.models import Sequential  \n",
    "\n",
    "from keras.layers.core import Dense, Dropout, Activation \n",
    "from keras.utils import np_utils                         "
   ]
  },
  {
   "cell_type": "markdown",
   "metadata": {
    "papermill": {
     "duration": 0.027353,
     "end_time": "2020-09-19T18:58:25.281864",
     "exception": false,
     "start_time": "2020-09-19T18:58:25.254511",
     "status": "completed"
    },
    "tags": []
   },
   "source": [
    "NumPy is an advanced Math Library in Python. Matplotlib will be used to plot graphs and for data visualization. We will import the MNIST dataset which is pre-loaded in Keras. We will use the Sequential Model and import the basic layers and util tools."
   ]
  },
  {
   "cell_type": "markdown",
   "metadata": {
    "papermill": {
     "duration": 0.027256,
     "end_time": "2020-09-19T18:58:25.336333",
     "exception": false,
     "start_time": "2020-09-19T18:58:25.309077",
     "status": "completed"
    },
    "tags": []
   },
   "source": [
    "## Load the Dataset"
   ]
  },
  {
   "cell_type": "code",
   "execution_count": 2,
   "metadata": {
    "_cell_guid": "79c7e3d0-c299-4dcb-8224-4455121ee9b0",
    "_uuid": "d629ff2d2480ee46fbb7e2d37f6b5fab8052498a",
    "execution": {
     "iopub.execute_input": "2020-09-19T18:58:25.398258Z",
     "iopub.status.busy": "2020-09-19T18:58:25.397129Z",
     "iopub.status.idle": "2020-09-19T18:58:26.264344Z",
     "shell.execute_reply": "2020-09-19T18:58:26.263508Z"
    },
    "papermill": {
     "duration": 0.901337,
     "end_time": "2020-09-19T18:58:26.264481",
     "exception": false,
     "start_time": "2020-09-19T18:58:25.363144",
     "status": "completed"
    },
    "tags": []
   },
   "outputs": [
    {
     "name": "stdout",
     "output_type": "stream",
     "text": [
      "Downloading data from https://storage.googleapis.com/tensorflow/tf-keras-datasets/mnist.npz\n",
      "11493376/11490434 [==============================] - 0s 0us/step\n",
      "X_train shape (60000, 28, 28)\n",
      "y_train shape (60000,)\n",
      "X_test shape (10000, 28, 28)\n",
      "y_test shape (10000,)\n"
     ]
    }
   ],
   "source": [
    "(X_train, y_train), (X_test, y_test) = mnist.load_data()\n",
    "\n",
    "print(\"X_train shape\", X_train.shape)\n",
    "print(\"y_train shape\", y_train.shape)\n",
    "print(\"X_test shape\", X_test.shape)\n",
    "print(\"y_test shape\", y_test.shape)"
   ]
  },
  {
   "cell_type": "code",
   "execution_count": 3,
   "metadata": {
    "execution": {
     "iopub.execute_input": "2020-09-19T18:58:26.336941Z",
     "iopub.status.busy": "2020-09-19T18:58:26.336170Z",
     "iopub.status.idle": "2020-09-19T18:58:28.470348Z",
     "shell.execute_reply": "2020-09-19T18:58:28.468880Z"
    },
    "papermill": {
     "duration": 2.176261,
     "end_time": "2020-09-19T18:58:28.470496",
     "exception": false,
     "start_time": "2020-09-19T18:58:26.294235",
     "status": "completed"
    },
    "tags": []
   },
   "outputs": [],
   "source": [
    "test_data = pd.read_csv('/kaggle/input/digit-recognizer/test.csv', delimiter = ',', header = 0, usecols = [x for x in range(0, 784)])"
   ]
  },
  {
   "cell_type": "markdown",
   "metadata": {
    "papermill": {
     "duration": 0.028829,
     "end_time": "2020-09-19T18:58:28.529431",
     "exception": false,
     "start_time": "2020-09-19T18:58:28.500602",
     "status": "completed"
    },
    "tags": []
   },
   "source": [
    "We load the dataset and verify the dimensions of the training and testing sets."
   ]
  },
  {
   "cell_type": "code",
   "execution_count": 4,
   "metadata": {
    "execution": {
     "iopub.execute_input": "2020-09-19T18:58:28.597424Z",
     "iopub.status.busy": "2020-09-19T18:58:28.596629Z",
     "iopub.status.idle": "2020-09-19T18:58:29.916351Z",
     "shell.execute_reply": "2020-09-19T18:58:29.916914Z"
    },
    "papermill": {
     "duration": 1.358457,
     "end_time": "2020-09-19T18:58:29.917086",
     "exception": false,
     "start_time": "2020-09-19T18:58:28.558629",
     "status": "completed"
    },
    "tags": []
   },
   "outputs": [
    {
     "data": {
      "image/png": "[encoded data removed]",
      "text/plain": [
       "<Figure size 432x288 with 9 Axes>"
      ]
     },
     "metadata": {
      "needs_background": "light"
     },
     "output_type": "display_data"
    }
   ],
   "source": [
    "for i in range(9):\n",
    "    plt.subplot(3,3,i+1)\n",
    "    num = random.randint(0, len(X_train))\n",
    "    plt.imshow(X_train[num], cmap='gray', interpolation='none')\n",
    "    plt.title(\"Class {}\".format(y_train[num]))\n",
    "    \n",
    "plt.tight_layout()"
   ]
  },
  {
   "cell_type": "markdown",
   "metadata": {
    "papermill": {
     "duration": 0.029553,
     "end_time": "2020-09-19T18:58:29.977291",
     "exception": false,
     "start_time": "2020-09-19T18:58:29.947738",
     "status": "completed"
    },
    "tags": []
   },
   "source": [
    "Here we are randomly selecting 9 images from the dataset and plotting them to get an idea of the handwritten digits and their respective classes."
   ]
  },
  {
   "cell_type": "markdown",
   "metadata": {
    "papermill": {
     "duration": 0.031047,
     "end_time": "2020-09-19T18:58:30.038616",
     "exception": false,
     "start_time": "2020-09-19T18:58:30.007569",
     "status": "completed"
    },
    "tags": []
   },
   "source": [
    "## Data Preprocessing\n",
    "\n",
    "Instead of a 28 x 28 matrix, we build our network to accept a 784-length vector. Pixel values range from 0 to 255 where 0 is black and 255 is pure white. We will normalize these values by dividing them by 255 so that we get the output pixel values between [0,1] in the same magnitude.\n",
    "\n",
    "Note that we are working with grayscale images of dimension 28 x 28 pixels. If we have color images, we have 3 channels for RGB, i.e. 28 x 28 x 3, each with pixel value in the range 0 to 255."
   ]
  },
  {
   "cell_type": "code",
   "execution_count": 5,
   "metadata": {
    "execution": {
     "iopub.execute_input": "2020-09-19T18:58:30.107067Z",
     "iopub.status.busy": "2020-09-19T18:58:30.106052Z",
     "iopub.status.idle": "2020-09-19T18:58:30.214899Z",
     "shell.execute_reply": "2020-09-19T18:58:30.215468Z"
    },
    "papermill": {
     "duration": 0.144123,
     "end_time": "2020-09-19T18:58:30.215631",
     "exception": false,
     "start_time": "2020-09-19T18:58:30.071508",
     "status": "completed"
    },
    "tags": []
   },
   "outputs": [
    {
     "name": "stdout",
     "output_type": "stream",
     "text": [
      "Training matrix shape (60000, 784)\n",
      "Testing matrix shape (10000, 784)\n"
     ]
    }
   ],
   "source": [
    "X_train = X_train.reshape(60000, 784) \n",
    "X_test = X_test.reshape(10000, 784)   \n",
    "\n",
    "X_train = X_train.astype('float32')   \n",
    "X_test = X_test.astype('float32')\n",
    "\n",
    "X_train /= 255                        \n",
    "X_test /= 255\n",
    "\n",
    "print(\"Training matrix shape\", X_train.shape)\n",
    "print(\"Testing matrix shape\", X_test.shape)"
   ]
  },
  {
   "cell_type": "code",
   "execution_count": 6,
   "metadata": {
    "execution": {
     "iopub.execute_input": "2020-09-19T18:58:30.294004Z",
     "iopub.status.busy": "2020-09-19T18:58:30.292946Z",
     "iopub.status.idle": "2020-09-19T18:58:30.297778Z",
     "shell.execute_reply": "2020-09-19T18:58:30.297240Z"
    },
    "papermill": {
     "duration": 0.051595,
     "end_time": "2020-09-19T18:58:30.297914",
     "exception": false,
     "start_time": "2020-09-19T18:58:30.246319",
     "status": "completed"
    },
    "tags": []
   },
   "outputs": [],
   "source": [
    "no_classes = 10\n",
    "\n",
    "Y_train = np_utils.to_categorical(y_train, no_classes)\n",
    "Y_test = np_utils.to_categorical(y_test, no_classes)"
   ]
  },
  {
   "cell_type": "markdown",
   "metadata": {
    "papermill": {
     "duration": 0.032693,
     "end_time": "2020-09-19T18:58:30.373373",
     "exception": false,
     "start_time": "2020-09-19T18:58:30.340680",
     "status": "completed"
    },
    "tags": []
   },
   "source": [
    "Since the output will be classified as one of the 10 classes we use one-hot encoding technique to form the output (Y variable). Read more about one-hot encoding here - https://machinelearningmastery.com/why-one-hot-encode-data-in-machine-learning/\n",
    "\n"
   ]
  },
  {
   "cell_type": "markdown",
   "metadata": {
    "papermill": {
     "duration": 0.032373,
     "end_time": "2020-09-19T18:58:30.438596",
     "exception": false,
     "start_time": "2020-09-19T18:58:30.406223",
     "status": "completed"
    },
    "tags": []
   },
   "source": [
    "## Building a 3-layer Neural Network\n",
    "\n",
    "![alt text](https://chsasank.github.io/assets/images/crash_course/mnist_net.png)\n"
   ]
  },
  {
   "cell_type": "code",
   "execution_count": 7,
   "metadata": {
    "execution": {
     "iopub.execute_input": "2020-09-19T18:58:30.517943Z",
     "iopub.status.busy": "2020-09-19T18:58:30.517197Z",
     "iopub.status.idle": "2020-09-19T18:58:30.605426Z",
     "shell.execute_reply": "2020-09-19T18:58:30.606377Z"
    },
    "papermill": {
     "duration": 0.132161,
     "end_time": "2020-09-19T18:58:30.606576",
     "exception": false,
     "start_time": "2020-09-19T18:58:30.474415",
     "status": "completed"
    },
    "tags": []
   },
   "outputs": [],
   "source": [
    "model = Sequential()"
   ]
  },
  {
   "cell_type": "markdown",
   "metadata": {
    "papermill": {
     "duration": 0.032665,
     "end_time": "2020-09-19T18:58:30.671047",
     "exception": false,
     "start_time": "2020-09-19T18:58:30.638382",
     "status": "completed"
    },
    "tags": []
   },
   "source": [
    "The sequential API allows you to create models layer-by-layer."
   ]
  },
  {
   "cell_type": "markdown",
   "metadata": {
    "papermill": {
     "duration": 0.032249,
     "end_time": "2020-09-19T18:58:30.736191",
     "exception": false,
     "start_time": "2020-09-19T18:58:30.703942",
     "status": "completed"
    },
    "tags": []
   },
   "source": [
    "## First Hidden Layer"
   ]
  },
  {
   "cell_type": "code",
   "execution_count": 8,
   "metadata": {
    "execution": {
     "iopub.execute_input": "2020-09-19T18:58:30.812622Z",
     "iopub.status.busy": "2020-09-19T18:58:30.811825Z",
     "iopub.status.idle": "2020-09-19T18:58:30.870697Z",
     "shell.execute_reply": "2020-09-19T18:58:30.869896Z"
    },
    "papermill": {
     "duration": 0.100563,
     "end_time": "2020-09-19T18:58:30.870823",
     "exception": false,
     "start_time": "2020-09-19T18:58:30.770260",
     "status": "completed"
    },
    "tags": []
   },
   "outputs": [],
   "source": [
    "model.add(Dense(512, input_shape=(784,))) "
   ]
  },
  {
   "cell_type": "markdown",
   "metadata": {
    "papermill": {
     "duration": 0.032799,
     "end_time": "2020-09-19T18:58:30.936249",
     "exception": false,
     "start_time": "2020-09-19T18:58:30.903450",
     "status": "completed"
    },
    "tags": []
   },
   "source": [
    "The first hidden layer has 512 nodes (neurons) whose input is a vector of size 784. Each node will receive an element from each input vector and apply some weight and bias to it."
   ]
  },
  {
   "cell_type": "code",
   "execution_count": 9,
   "metadata": {
    "execution": {
     "iopub.execute_input": "2020-09-19T18:58:31.013893Z",
     "iopub.status.busy": "2020-09-19T18:58:31.013039Z",
     "iopub.status.idle": "2020-09-19T18:58:31.018082Z",
     "shell.execute_reply": "2020-09-19T18:58:31.016889Z"
    },
    "papermill": {
     "duration": 0.045822,
     "end_time": "2020-09-19T18:58:31.018464",
     "exception": false,
     "start_time": "2020-09-19T18:58:30.972642",
     "status": "completed"
    },
    "tags": []
   },
   "outputs": [],
   "source": [
    "model.add(Activation('relu'))"
   ]
  },
  {
   "cell_type": "markdown",
   "metadata": {
    "papermill": {
     "duration": 0.035414,
     "end_time": "2020-09-19T18:58:31.091571",
     "exception": false,
     "start_time": "2020-09-19T18:58:31.056157",
     "status": "completed"
    },
    "tags": []
   },
   "source": [
    "In artificial neural networks, the activation function of a node defines the output of that node given an input or set of inputs. ReLU stands for rectified linear unit, and is a type of activation function. $$ ReLU: f(x) = max (0,x)$$"
   ]
  },
  {
   "cell_type": "code",
   "execution_count": 10,
   "metadata": {
    "execution": {
     "iopub.execute_input": "2020-09-19T18:58:31.171609Z",
     "iopub.status.busy": "2020-09-19T18:58:31.170799Z",
     "iopub.status.idle": "2020-09-19T18:58:31.212772Z",
     "shell.execute_reply": "2020-09-19T18:58:31.210880Z"
    },
    "papermill": {
     "duration": 0.085279,
     "end_time": "2020-09-19T18:58:31.213030",
     "exception": false,
     "start_time": "2020-09-19T18:58:31.127751",
     "status": "completed"
    },
    "tags": []
   },
   "outputs": [],
   "source": [
    "model.add(Dropout(0.2))"
   ]
  },
  {
   "cell_type": "markdown",
   "metadata": {
    "papermill": {
     "duration": 0.032658,
     "end_time": "2020-09-19T18:58:31.279503",
     "exception": false,
     "start_time": "2020-09-19T18:58:31.246845",
     "status": "completed"
    },
    "tags": []
   },
   "source": [
    "Dropout randomly selects a few nodes and nullifies their output (deactivates the node). This helps in ensuring that the model is not overfitted to the training dataset."
   ]
  },
  {
   "cell_type": "markdown",
   "metadata": {
    "papermill": {
     "duration": 0.031048,
     "end_time": "2020-09-19T18:58:31.343549",
     "exception": false,
     "start_time": "2020-09-19T18:58:31.312501",
     "status": "completed"
    },
    "tags": []
   },
   "source": [
    "## Second Hidden Layer"
   ]
  },
  {
   "cell_type": "code",
   "execution_count": 11,
   "metadata": {
    "execution": {
     "iopub.execute_input": "2020-09-19T18:58:31.416145Z",
     "iopub.status.busy": "2020-09-19T18:58:31.414969Z",
     "iopub.status.idle": "2020-09-19T18:58:31.439982Z",
     "shell.execute_reply": "2020-09-19T18:58:31.439186Z"
    },
    "papermill": {
     "duration": 0.065016,
     "end_time": "2020-09-19T18:58:31.440107",
     "exception": false,
     "start_time": "2020-09-19T18:58:31.375091",
     "status": "completed"
    },
    "tags": []
   },
   "outputs": [],
   "source": [
    "model.add(Dense(512))\n",
    "model.add(Activation('relu'))\n",
    "model.add(Dropout(0.2))"
   ]
  },
  {
   "cell_type": "markdown",
   "metadata": {
    "papermill": {
     "duration": 0.031277,
     "end_time": "2020-09-19T18:58:31.505129",
     "exception": false,
     "start_time": "2020-09-19T18:58:31.473852",
     "status": "completed"
    },
    "tags": []
   },
   "source": [
    "The second hidden layer also has 512 nodes and it takes input from the 512 nodes in the previous layer and gives its output to the next subsequent layer."
   ]
  },
  {
   "cell_type": "markdown",
   "metadata": {
    "papermill": {
     "duration": 0.032887,
     "end_time": "2020-09-19T18:58:31.569886",
     "exception": false,
     "start_time": "2020-09-19T18:58:31.536999",
     "status": "completed"
    },
    "tags": []
   },
   "source": [
    "## Final Output Layer"
   ]
  },
  {
   "cell_type": "markdown",
   "metadata": {
    "papermill": {
     "duration": 0.03132,
     "end_time": "2020-09-19T18:58:31.634653",
     "exception": false,
     "start_time": "2020-09-19T18:58:31.603333",
     "status": "completed"
    },
    "tags": []
   },
   "source": [
    "The final layer of 10 neurons in fully-connected to the previous 512-node layer.\n",
    "The final layer should be equal to the number of desired output classes."
   ]
  },
  {
   "cell_type": "code",
   "execution_count": 12,
   "metadata": {
    "execution": {
     "iopub.execute_input": "2020-09-19T18:58:31.710039Z",
     "iopub.status.busy": "2020-09-19T18:58:31.709062Z",
     "iopub.status.idle": "2020-09-19T18:58:31.724981Z",
     "shell.execute_reply": "2020-09-19T18:58:31.724222Z"
    },
    "papermill": {
     "duration": 0.057861,
     "end_time": "2020-09-19T18:58:31.725103",
     "exception": false,
     "start_time": "2020-09-19T18:58:31.667242",
     "status": "completed"
    },
    "tags": []
   },
   "outputs": [],
   "source": [
    "model.add(Dense(10))\n",
    "model.add(Activation('softmax'))"
   ]
  },
  {
   "cell_type": "markdown",
   "metadata": {
    "papermill": {
     "duration": 0.032635,
     "end_time": "2020-09-19T18:58:31.789462",
     "exception": false,
     "start_time": "2020-09-19T18:58:31.756827",
     "status": "completed"
    },
    "tags": []
   },
   "source": [
    "The Softmax Activation represents a probability distribution over n different possible outcomes. Its values are all non-negative and sum to 1. For example, if the final output is: [0, 0.94, 0, 0, 0, 0, 0, 0.06, 0, 0] then it is most probable that the image is that of the digit 1"
   ]
  },
  {
   "cell_type": "code",
   "execution_count": 13,
   "metadata": {
    "execution": {
     "iopub.execute_input": "2020-09-19T18:58:31.864583Z",
     "iopub.status.busy": "2020-09-19T18:58:31.863485Z",
     "iopub.status.idle": "2020-09-19T18:58:31.871598Z",
     "shell.execute_reply": "2020-09-19T18:58:31.870560Z"
    },
    "papermill": {
     "duration": 0.050023,
     "end_time": "2020-09-19T18:58:31.871790",
     "exception": false,
     "start_time": "2020-09-19T18:58:31.821767",
     "status": "completed"
    },
    "tags": []
   },
   "outputs": [
    {
     "name": "stdout",
     "output_type": "stream",
     "text": [
      "Model: \"sequential\"\n",
      "_________________________________________________________________\n",
      "Layer (type)                 Output Shape              Param #   \n",
      "=================================================================\n",
      "dense (Dense)                (None, 512)               401920    \n",
      "_________________________________________________________________\n",
      "activation (Activation)      (None, 512)               0         \n",
      "_________________________________________________________________\n",
      "dropout (Dropout)            (None, 512)               0         \n",
      "_________________________________________________________________\n",
      "dense_1 (Dense)              (None, 512)               262656    \n",
      "_________________________________________________________________\n",
      "activation_1 (Activation)    (None, 512)               0         \n",
      "_________________________________________________________________\n",
      "dropout_1 (Dropout)          (None, 512)               0         \n",
      "_________________________________________________________________\n",
      "dense_2 (Dense)              (None, 10)                5130      \n",
      "_________________________________________________________________\n",
      "activation_2 (Activation)    (None, 10)                0         \n",
      "=================================================================\n",
      "Total params: 669,706\n",
      "Trainable params: 669,706\n",
      "Non-trainable params: 0\n",
      "_________________________________________________________________\n"
     ]
    }
   ],
   "source": [
    "model.summary()"
   ]
  },
  {
   "cell_type": "markdown",
   "metadata": {
    "papermill": {
     "duration": 0.033993,
     "end_time": "2020-09-19T18:58:31.939974",
     "exception": false,
     "start_time": "2020-09-19T18:58:31.905981",
     "status": "completed"
    },
    "tags": []
   },
   "source": [
    "## Model Chart"
   ]
  },
  {
   "cell_type": "code",
   "execution_count": 14,
   "metadata": {
    "execution": {
     "iopub.execute_input": "2020-09-19T18:58:32.016403Z",
     "iopub.status.busy": "2020-09-19T18:58:32.014828Z",
     "iopub.status.idle": "2020-09-19T18:58:32.853766Z",
     "shell.execute_reply": "2020-09-19T18:58:32.852416Z"
    },
    "papermill": {
     "duration": 0.880834,
     "end_time": "2020-09-19T18:58:32.853930",
     "exception": false,
     "start_time": "2020-09-19T18:58:31.973096",
     "status": "completed"
    },
    "tags": []
   },
   "outputs": [
    {
     "data": {
      "image/png": "[encoded data removed]",
      "text/plain": [
       "<IPython.core.display.Image object>"
      ]
     },
     "execution_count": 14,
     "metadata": {},
     "output_type": "execute_result"
    }
   ],
   "source": [
    "from keras.utils import plot_model\n",
    "plot_model(model, to_file='model_chart.png', show_shapes=True, show_layer_names=True)\n",
    "from IPython.display import Image\n",
    "Image(\"model_chart.png\")"
   ]
  },
  {
   "cell_type": "markdown",
   "metadata": {
    "papermill": {
     "duration": 0.046682,
     "end_time": "2020-09-19T18:58:32.955496",
     "exception": false,
     "start_time": "2020-09-19T18:58:32.908814",
     "status": "completed"
    },
    "tags": []
   },
   "source": [
    "## Compiling the model\n",
    "\n",
    "When compiling a model, Keras asks you to specify your loss function and your optimizer."
   ]
  },
  {
   "cell_type": "code",
   "execution_count": 15,
   "metadata": {
    "execution": {
     "iopub.execute_input": "2020-09-19T18:58:33.070331Z",
     "iopub.status.busy": "2020-09-19T18:58:33.065315Z",
     "iopub.status.idle": "2020-09-19T18:58:33.074259Z",
     "shell.execute_reply": "2020-09-19T18:58:33.073643Z"
    },
    "papermill": {
     "duration": 0.07453,
     "end_time": "2020-09-19T18:58:33.074534",
     "exception": false,
     "start_time": "2020-09-19T18:58:33.000004",
     "status": "completed"
    },
    "tags": []
   },
   "outputs": [],
   "source": [
    "model.compile(loss='categorical_crossentropy', optimizer='adam', metrics=['accuracy'])"
   ]
  },
  {
   "cell_type": "markdown",
   "metadata": {
    "papermill": {
     "duration": 0.034877,
     "end_time": "2020-09-19T18:58:33.143616",
     "exception": false,
     "start_time": "2020-09-19T18:58:33.108739",
     "status": "completed"
    },
    "tags": []
   },
   "source": [
    "The loss function we'll use here is called categorical cross-entropy and is a loss function well-suited to comparing two probability distributions. The cross-entropy is a measure of how different your predicted distribution is from the target distribution. <br><br>\n",
    "Optimizers are algorithms or methods used to change the attributes of the neural network such as weights and learning rate to reduce the losses. Optimizers are used to solve optimization problems by minimizing the loss function. In our case, we use the Adam Optimizer."
   ]
  },
  {
   "cell_type": "code",
   "execution_count": 16,
   "metadata": {
    "execution": {
     "iopub.execute_input": "2020-09-19T18:58:33.222655Z",
     "iopub.status.busy": "2020-09-19T18:58:33.221549Z",
     "iopub.status.idle": "2020-09-19T18:59:23.365930Z",
     "shell.execute_reply": "2020-09-19T18:59:23.364891Z"
    },
    "papermill": {
     "duration": 50.187661,
     "end_time": "2020-09-19T18:59:23.366072",
     "exception": false,
     "start_time": "2020-09-19T18:58:33.178411",
     "status": "completed"
    },
    "tags": []
   },
   "outputs": [
    {
     "name": "stdout",
     "output_type": "stream",
     "text": [
      "Epoch 1/10\n",
      "469/469 [==============================] - 5s 11ms/step - loss: 0.2489 - accuracy: 0.9251\n",
      "Epoch 2/10\n",
      "469/469 [==============================] - 5s 10ms/step - loss: 0.0988 - accuracy: 0.9693\n",
      "Epoch 3/10\n",
      "469/469 [==============================] - 5s 10ms/step - loss: 0.0699 - accuracy: 0.9780\n",
      "Epoch 4/10\n",
      "469/469 [==============================] - 5s 10ms/step - loss: 0.0551 - accuracy: 0.9825\n",
      "Epoch 5/10\n",
      "469/469 [==============================] - 5s 11ms/step - loss: 0.0469 - accuracy: 0.9852\n",
      "Epoch 6/10\n",
      "469/469 [==============================] - 5s 10ms/step - loss: 0.0397 - accuracy: 0.9869\n",
      "Epoch 7/10\n",
      "469/469 [==============================] - 5s 10ms/step - loss: 0.0341 - accuracy: 0.9892\n",
      "Epoch 8/10\n",
      "469/469 [==============================] - 5s 10ms/step - loss: 0.0304 - accuracy: 0.9899\n",
      "Epoch 9/10\n",
      "469/469 [==============================] - 5s 10ms/step - loss: 0.0281 - accuracy: 0.9910\n",
      "Epoch 10/10\n",
      "469/469 [==============================] - 5s 10ms/step - loss: 0.0246 - accuracy: 0.9918\n"
     ]
    }
   ],
   "source": [
    "history = model.fit(X_train, Y_train,\n",
    "          batch_size=128, epochs=10,\n",
    "          verbose=1)"
   ]
  },
  {
   "cell_type": "markdown",
   "metadata": {
    "papermill": {
     "duration": 0.343751,
     "end_time": "2020-09-19T18:59:24.060347",
     "exception": false,
     "start_time": "2020-09-19T18:59:23.716596",
     "status": "completed"
    },
    "tags": []
   },
   "source": [
    "The batch size determines how much data per step is used to compute the loss function, gradients, and backpropagation. Note that the accuracy increases after every epoch. We need to have a balanced number of epochs as higher epochs come at the risk of overfitting the model to the training set and may result in lower accuracy in the test case."
   ]
  },
  {
   "cell_type": "markdown",
   "metadata": {
    "papermill": {
     "duration": 0.346556,
     "end_time": "2020-09-19T18:59:24.746901",
     "exception": false,
     "start_time": "2020-09-19T18:59:24.400345",
     "status": "completed"
    },
    "tags": []
   },
   "source": [
    "## Evaluate the model\n",
    "\n",
    "We will now evaluate our model against the Testing dataset"
   ]
  },
  {
   "cell_type": "code",
   "execution_count": 17,
   "metadata": {
    "execution": {
     "iopub.execute_input": "2020-09-19T18:59:25.445250Z",
     "iopub.status.busy": "2020-09-19T18:59:25.443750Z",
     "iopub.status.idle": "2020-09-19T18:59:26.425724Z",
     "shell.execute_reply": "2020-09-19T18:59:26.424490Z"
    },
    "papermill": {
     "duration": 1.334664,
     "end_time": "2020-09-19T18:59:26.425856",
     "exception": false,
     "start_time": "2020-09-19T18:59:25.091192",
     "status": "completed"
    },
    "tags": []
   },
   "outputs": [
    {
     "name": "stdout",
     "output_type": "stream",
     "text": [
      "313/313 [==============================] - 1s 2ms/step - loss: 0.0689 - accuracy: 0.9819\n",
      "Test accuracy: 0.9818999767303467\n"
     ]
    }
   ],
   "source": [
    "score = model.evaluate(X_test, Y_test)\n",
    "print('Test accuracy:', score[1])"
   ]
  },
  {
   "cell_type": "markdown",
   "metadata": {
    "papermill": {
     "duration": 0.351978,
     "end_time": "2020-09-19T18:59:27.131081",
     "exception": false,
     "start_time": "2020-09-19T18:59:26.779103",
     "status": "completed"
    },
    "tags": []
   },
   "source": [
    "Plot the accuracy and loss metrics of the model."
   ]
  },
  {
   "cell_type": "code",
   "execution_count": 18,
   "metadata": {
    "execution": {
     "iopub.execute_input": "2020-09-19T18:59:27.853114Z",
     "iopub.status.busy": "2020-09-19T18:59:27.846157Z",
     "iopub.status.idle": "2020-09-19T18:59:28.196851Z",
     "shell.execute_reply": "2020-09-19T18:59:28.197392Z"
    },
    "papermill": {
     "duration": 0.713977,
     "end_time": "2020-09-19T18:59:28.197557",
     "exception": false,
     "start_time": "2020-09-19T18:59:27.483580",
     "status": "completed"
    },
    "tags": []
   },
   "outputs": [
    {
     "data": {
      "image/png": "[encoded data removed]",
      "text/plain": [
       "<Figure size 432x288 with 2 Axes>"
      ]
     },
     "metadata": {
      "needs_background": "light"
     },
     "output_type": "display_data"
    }
   ],
   "source": [
    "fig = plt.figure()\n",
    "plt.subplot(2,1,1)\n",
    "plt.plot(history.history['accuracy'])\n",
    "plt.title('model accuracy')\n",
    "plt.ylabel('accuracy')\n",
    "plt.xlabel('epoch')\n",
    "plt.legend(['train', 'test'], loc='lower right')\n",
    "\n",
    "plt.subplot(2,1,2)\n",
    "plt.plot(history.history['loss'])\n",
    "plt.title('model loss')\n",
    "plt.ylabel('loss')\n",
    "plt.xlabel('epoch')\n",
    "plt.legend(['train', 'test'], loc='upper right')\n",
    "\n",
    "plt.tight_layout()"
   ]
  },
  {
   "cell_type": "code",
   "execution_count": 19,
   "metadata": {
    "execution": {
     "iopub.execute_input": "2020-09-19T18:59:28.966443Z",
     "iopub.status.busy": "2020-09-19T18:59:28.965734Z",
     "iopub.status.idle": "2020-09-19T18:59:31.162596Z",
     "shell.execute_reply": "2020-09-19T18:59:31.161976Z"
    },
    "papermill": {
     "duration": 2.556592,
     "end_time": "2020-09-19T18:59:31.162736",
     "exception": false,
     "start_time": "2020-09-19T18:59:28.606144",
     "status": "completed"
    },
    "tags": []
   },
   "outputs": [],
   "source": [
    "results = model.predict(test_data)"
   ]
  },
  {
   "cell_type": "code",
   "execution_count": 20,
   "metadata": {
    "execution": {
     "iopub.execute_input": "2020-09-19T18:59:31.868091Z",
     "iopub.status.busy": "2020-09-19T18:59:31.867043Z",
     "iopub.status.idle": "2020-09-19T18:59:32.217732Z",
     "shell.execute_reply": "2020-09-19T18:59:32.217082Z"
    },
    "papermill": {
     "duration": 0.707943,
     "end_time": "2020-09-19T18:59:32.217852",
     "exception": false,
     "start_time": "2020-09-19T18:59:31.509909",
     "status": "completed"
    },
    "tags": []
   },
   "outputs": [],
   "source": [
    "results = np.argmax(results,axis = 1)\n",
    "results = pd.Series(results,name=\"Label\")\n",
    "submission = pd.concat([pd.Series(range(1,28001),name = \"ImageId\"),results],axis = 1)\n",
    "\n",
    "submission.to_csv(\"submission.csv\",index=False)"
   ]
  },
  {
   "cell_type": "code",
   "execution_count": 21,
   "metadata": {
    "execution": {
     "iopub.execute_input": "2020-09-19T18:59:32.931565Z",
     "iopub.status.busy": "2020-09-19T18:59:32.930838Z",
     "iopub.status.idle": "2020-09-19T18:59:32.940093Z",
     "shell.execute_reply": "2020-09-19T18:59:32.940638Z"
    },
    "papermill": {
     "duration": 0.37235,
     "end_time": "2020-09-19T18:59:32.940785",
     "exception": false,
     "start_time": "2020-09-19T18:59:32.568435",
     "status": "completed"
    },
    "tags": []
   },
   "outputs": [
    {
     "data": {
      "text/html": [
       "<div>\n",
       "<style scoped>\n",
       "    .dataframe tbody tr th:only-of-type {\n",
       "        vertical-align: middle;\n",
       "    }\n",
       "\n",
       "    .dataframe tbody tr th {\n",
       "        vertical-align: top;\n",
       "    }\n",
       "\n",
       "    .dataframe thead th {\n",
       "        text-align: right;\n",
       "    }\n",
       "</style>\n",
       "<table border=\"1\" class=\"dataframe\">\n",
       "  <thead>\n",
       "    <tr style=\"text-align: right;\">\n",
       "      <th></th>\n",
       "      <th>ImageId</th>\n",
       "      <th>Label</th>\n",
       "    </tr>\n",
       "  </thead>\n",
       "  <tbody>\n",
       "    <tr>\n",
       "      <th>0</th>\n",
       "      <td>1</td>\n",
       "      <td>2</td>\n",
       "    </tr>\n",
       "    <tr>\n",
       "      <th>1</th>\n",
       "      <td>2</td>\n",
       "      <td>0</td>\n",
       "    </tr>\n",
       "    <tr>\n",
       "      <th>2</th>\n",
       "      <td>3</td>\n",
       "      <td>9</td>\n",
       "    </tr>\n",
       "    <tr>\n",
       "      <th>3</th>\n",
       "      <td>4</td>\n",
       "      <td>0</td>\n",
       "    </tr>\n",
       "    <tr>\n",
       "      <th>4</th>\n",
       "      <td>5</td>\n",
       "      <td>3</td>\n",
       "    </tr>\n",
       "    <tr>\n",
       "      <th>...</th>\n",
       "      <td>...</td>\n",
       "      <td>...</td>\n",
       "    </tr>\n",
       "    <tr>\n",
       "      <th>27995</th>\n",
       "      <td>27996</td>\n",
       "      <td>9</td>\n",
       "    </tr>\n",
       "    <tr>\n",
       "      <th>27996</th>\n",
       "      <td>27997</td>\n",
       "      <td>7</td>\n",
       "    </tr>\n",
       "    <tr>\n",
       "      <th>27997</th>\n",
       "      <td>27998</td>\n",
       "      <td>3</td>\n",
       "    </tr>\n",
       "    <tr>\n",
       "      <th>27998</th>\n",
       "      <td>27999</td>\n",
       "      <td>9</td>\n",
       "    </tr>\n",
       "    <tr>\n",
       "      <th>27999</th>\n",
       "      <td>28000</td>\n",
       "      <td>2</td>\n",
       "    </tr>\n",
       "  </tbody>\n",
       "</table>\n",
       "<p>28000 rows × 2 columns</p>\n",
       "</div>"
      ],
      "text/plain": [
       "       ImageId  Label\n",
       "0            1      2\n",
       "1            2      0\n",
       "2            3      9\n",
       "3            4      0\n",
       "4            5      3\n",
       "...        ...    ...\n",
       "27995    27996      9\n",
       "27996    27997      7\n",
       "27997    27998      3\n",
       "27998    27999      9\n",
       "27999    28000      2\n",
       "\n",
       "[28000 rows x 2 columns]"
      ]
     },
     "execution_count": 21,
     "metadata": {},
     "output_type": "execute_result"
    }
   ],
   "source": [
    "submission"
   ]
  },
  {
   "cell_type": "markdown",
   "metadata": {
    "papermill": {
     "duration": 0.369332,
     "end_time": "2020-09-19T18:59:33.663399",
     "exception": false,
     "start_time": "2020-09-19T18:59:33.294067",
     "status": "completed"
    },
    "tags": []
   },
   "source": [
    "Now let us introspect a few correctly and wrongly classified images to get a better understanding of where the model fails and hopefully take corrective measures to increse its accuracy."
   ]
  },
  {
   "cell_type": "code",
   "execution_count": 22,
   "metadata": {
    "execution": {
     "iopub.execute_input": "2020-09-19T18:59:34.370589Z",
     "iopub.status.busy": "2020-09-19T18:59:34.369841Z",
     "iopub.status.idle": "2020-09-19T18:59:35.223093Z",
     "shell.execute_reply": "2020-09-19T18:59:35.223654Z"
    },
    "papermill": {
     "duration": 1.205647,
     "end_time": "2020-09-19T18:59:35.223811",
     "exception": false,
     "start_time": "2020-09-19T18:59:34.018164",
     "status": "completed"
    },
    "tags": []
   },
   "outputs": [],
   "source": [
    "predicted_classes = model.predict_classes(X_test)\n",
    "\n",
    "correct_indices = np.nonzero(predicted_classes == y_test)[0]\n",
    "\n",
    "incorrect_indices = np.nonzero(predicted_classes != y_test)[0]"
   ]
  },
  {
   "cell_type": "code",
   "execution_count": 23,
   "metadata": {
    "execution": {
     "iopub.execute_input": "2020-09-19T18:59:35.936496Z",
     "iopub.status.busy": "2020-09-19T18:59:35.935440Z",
     "iopub.status.idle": "2020-09-19T18:59:38.394613Z",
     "shell.execute_reply": "2020-09-19T18:59:38.394034Z"
    },
    "papermill": {
     "duration": 2.814642,
     "end_time": "2020-09-19T18:59:38.394735",
     "exception": false,
     "start_time": "2020-09-19T18:59:35.580093",
     "status": "completed"
    },
    "tags": []
   },
   "outputs": [
    {
     "data": {
      "image/png": "[encoded data removed]",
      "text/plain": [
       "<Figure size 432x288 with 9 Axes>"
      ]
     },
     "metadata": {
      "needs_background": "light"
     },
     "output_type": "display_data"
    },
    {
     "data": {
      "image/png": "[encoded data removed]",
      "text/plain": [
       "<Figure size 432x288 with 9 Axes>"
      ]
     },
     "metadata": {
      "needs_background": "light"
     },
     "output_type": "display_data"
    }
   ],
   "source": [
    "plt.figure()\n",
    "for i, correct in enumerate(correct_indices[:9]):\n",
    "    plt.subplot(3,3,i+1)\n",
    "    plt.imshow(X_test[correct].reshape(28,28), cmap='gray', interpolation='none')\n",
    "    plt.title(\"Predicted {}, Class {}\".format(predicted_classes[correct], y_test[correct]))\n",
    "    \n",
    "plt.tight_layout()\n",
    "    \n",
    "plt.figure()\n",
    "for i, incorrect in enumerate(incorrect_indices[:9]):\n",
    "    plt.subplot(3,3,i+1)\n",
    "    plt.imshow(X_test[incorrect].reshape(28,28), cmap='gray', interpolation='none')\n",
    "    plt.title(\"Predicted {}, Class {}\".format(predicted_classes[incorrect], y_test[incorrect]))\n",
    "    \n",
    "plt.tight_layout()"
   ]
  },
  {
   "cell_type": "markdown",
   "metadata": {
    "papermill": {
     "duration": 0.392226,
     "end_time": "2020-09-19T18:59:39.140818",
     "exception": false,
     "start_time": "2020-09-19T18:59:38.748592",
     "status": "completed"
    },
    "tags": []
   },
   "source": [
    "Congratulations on completing your first Deep Learning model. I hope you understood the basic concepts behind data pre-processing, model framing, training, and testing.\n",
    "\n",
    "There are many ways in which we can improve the performance of the model by tuning the hyperparameters, data validation, augmentation, trying different optimizers and avoiding biased training, and many more! \n",
    "\n",
    "I have written a blog to give a better explanation of the approach I have used, here is the link - https://medium.com/analytics-vidhya/get-started-with-your-first-deep-learning-project-7d989cb13ae5\n",
    "\n",
    "Let me know if you have any suggestions/doubts. Happy Kaggling :)"
   ]
  }
 ],
 "metadata": {
  "kernelspec": {
   "display_name": "Python 3",
   "language": "python",
   "name": "python3"
  },
  "language_info": {
   "codemirror_mode": {
    "name": "ipython",
    "version": 3
   },
   "file_extension": ".py",
   "mimetype": "text/x-python",
   "name": "python",
   "nbconvert_exporter": "python",
   "pygments_lexer": "ipython3",
   "version": "3.7.6"
  },
  "papermill": {
   "duration": 88.285869,
   "end_time": "2020-09-19T18:59:40.568362",
   "environment_variables": {},
   "exception": null,
   "input_path": "__notebook__.ipynb",
   "output_path": "__notebook__.ipynb",
   "parameters": {},
   "start_time": "2020-09-19T18:58:12.282493",
   "version": "2.1.0"
  }
 },
 "nbformat": 4,
 "nbformat_minor": 4
}
